{
 "cells": [
  {
   "cell_type": "code",
   "execution_count": 1,
   "metadata": {},
   "outputs": [],
   "source": [
    "#Assignment 17.3"
   ]
  },
  {
   "cell_type": "markdown",
   "metadata": {},
   "source": [
    "** Two balls are drawn at arandom in succession wthout replacement from an urn containing 4 red balls and 6 blak balls\n",
    "find the probability all possible outcomes is always  = 1**"
   ]
  },
  {
   "cell_type": "code",
   "execution_count": 2,
   "metadata": {},
   "outputs": [],
   "source": [
    "from scipy.stats import binom"
   ]
  },
  {
   "cell_type": "code",
   "execution_count": 3,
   "metadata": {},
   "outputs": [],
   "source": [
    "    red_balls = 4\n",
    "    black_balls = 6\n",
    "    total_balls = red_balls + black_balls"
   ]
  },
  {
   "cell_type": "code",
   "execution_count": 4,
   "metadata": {},
   "outputs": [],
   "source": [
    "#There are onl four possible combinations when two balls are draen at random\n",
    "# i.e (R,R) (R,B) (B,R) (B,B)"
   ]
  },
  {
   "cell_type": "code",
   "execution_count": 5,
   "metadata": {},
   "outputs": [
    {
     "name": "stdout",
     "output_type": "stream",
     "text": [
      "Probability of RED,RED :  0.13333333333333336\n"
     ]
    }
   ],
   "source": [
    "Prob_RR = ((red_balls/total_balls)*(red_balls -1)/(total_balls -1))\n",
    "print(\"Probability of RED,RED : \",Prob_RR ) "
   ]
  },
  {
   "cell_type": "code",
   "execution_count": 9,
   "metadata": {},
   "outputs": [
    {
     "name": "stdout",
     "output_type": "stream",
     "text": [
      "Probability of RED,BLACK :  0.2666666666666667\n"
     ]
    }
   ],
   "source": [
    "Prob_RB = ((red_balls/total_balls)*(black_balls)/(total_balls -1))\n",
    "print(\"Probability of RED,BLACK : \",Prob_RB) "
   ]
  },
  {
   "cell_type": "code",
   "execution_count": 10,
   "metadata": {},
   "outputs": [
    {
     "name": "stdout",
     "output_type": "stream",
     "text": [
      "Probability of RED,BLACK :  0.26666666666666666\n"
     ]
    }
   ],
   "source": [
    "Prob_BR = ((black_balls/total_balls)*(red_balls)/(total_balls -1))\n",
    "print(\"Probability of RED,BLACK : \",Prob_BR) "
   ]
  },
  {
   "cell_type": "code",
   "execution_count": 11,
   "metadata": {},
   "outputs": [
    {
     "name": "stdout",
     "output_type": "stream",
     "text": [
      "Probability of BLACK,BLACK :  0.3333333333333333\n"
     ]
    }
   ],
   "source": [
    "Prob_BB = ((black_balls/total_balls)*(black_balls -1)/(total_balls -1))\n",
    "print(\"Probability of BLACK,BLACK : \",Prob_BB ) "
   ]
  },
  {
   "cell_type": "code",
   "execution_count": 14,
   "metadata": {},
   "outputs": [
    {
     "name": "stdout",
     "output_type": "stream",
     "text": [
      "Probaility of all possible outcomes :  1.0\n"
     ]
    }
   ],
   "source": [
    "#Probabiity of all possible outcomes\n",
    "\n",
    "\n",
    "prob_All = Prob_RR + Prob_RB + Prob_BR + Prob_BB\n",
    "print(\"Probaility of all possible outcomes : \",prob_All)"
   ]
  },
  {
   "cell_type": "code",
   "execution_count": null,
   "metadata": {},
   "outputs": [],
   "source": []
  }
 ],
 "metadata": {
  "kernelspec": {
   "display_name": "Python 3",
   "language": "python",
   "name": "python3"
  },
  "language_info": {
   "codemirror_mode": {
    "name": "ipython",
    "version": 3
   },
   "file_extension": ".py",
   "mimetype": "text/x-python",
   "name": "python",
   "nbconvert_exporter": "python",
   "pygments_lexer": "ipython3",
   "version": "3.6.4"
  }
 },
 "nbformat": 4,
 "nbformat_minor": 2
}
